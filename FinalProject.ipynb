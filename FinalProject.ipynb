{
 "cells": [
  {
   "cell_type": "markdown",
   "metadata": {},
   "source": [
    "# Final Project\n",
    "\n",
    "For the final project, the goal is to implement a QA-sytem that will answer all kinds of questions about movies, actors, and everything related to the movie business.\n",
    "\n",
    "## Test Questions\n",
    "\n",
    "The result will be evaluated, among others, on a set of test questions. The test questions are provided as a tab-separated csv file consisting of an ID and the text of the question:\n",
    "\n",
    "    ID   Text of the question\n",
    "    \n",
    "Your results are also to be submitted as a tab-separated csv file. Code for reading in the data and writing the answers file is provided below. All you have to do is improve the question-answering function. \n",
    "\n",
    "## Answer file\n",
    "\n",
    "The answer file is also a tab-separated csv file, as in the example output below (in file 'our_team_answers.csv'). For list questions, return the list of answers separated by a comma, also as shown in the example below. \n",
    "\n",
    "Make sure to answer all questions, so if no answer is found by the system, insert a dummy answer such as 'No answer found'. \n"
   ]
  },
  {
   "cell_type": "code",
   "execution_count": 3,
   "metadata": {},
   "outputs": [],
   "source": [
    "import csv"
   ]
  },
  {
   "cell_type": "code",
   "execution_count": 4,
   "metadata": {},
   "outputs": [
    {
     "ename": "FileNotFoundError",
     "evalue": "[Errno 2] No such file or directory: 'test_questions.csv'",
     "output_type": "error",
     "traceback": [
      "\u001b[1;31m---------------------------------------------------------------------------\u001b[0m",
      "\u001b[1;31mFileNotFoundError\u001b[0m                         Traceback (most recent call last)",
      "\u001b[1;32m<ipython-input-4-982f4d310af6>\u001b[0m in \u001b[0;36m<module>\u001b[1;34m\u001b[0m\n\u001b[0;32m     11\u001b[0m \u001b[0manswers\u001b[0m \u001b[1;33m=\u001b[0m \u001b[1;33m{\u001b[0m\u001b[1;33m}\u001b[0m\u001b[1;33m\u001b[0m\u001b[1;33m\u001b[0m\u001b[0m\n\u001b[0;32m     12\u001b[0m \u001b[1;33m\u001b[0m\u001b[0m\n\u001b[1;32m---> 13\u001b[1;33m \u001b[1;32mwith\u001b[0m \u001b[0mopen\u001b[0m\u001b[1;33m(\u001b[0m\u001b[1;34m'test_questions.csv'\u001b[0m\u001b[1;33m)\u001b[0m \u001b[1;32mas\u001b[0m \u001b[0mquestions\u001b[0m \u001b[1;33m:\u001b[0m\u001b[1;33m\u001b[0m\u001b[1;33m\u001b[0m\u001b[0m\n\u001b[0m\u001b[0;32m     14\u001b[0m     \u001b[0mreader\u001b[0m \u001b[1;33m=\u001b[0m \u001b[0mcsv\u001b[0m\u001b[1;33m.\u001b[0m\u001b[0mreader\u001b[0m\u001b[1;33m(\u001b[0m\u001b[0mquestions\u001b[0m\u001b[1;33m,\u001b[0m\u001b[0mdelimiter\u001b[0m\u001b[1;33m=\u001b[0m\u001b[1;34m'\\t'\u001b[0m\u001b[1;33m)\u001b[0m\u001b[1;33m\u001b[0m\u001b[1;33m\u001b[0m\u001b[0m\n\u001b[0;32m     15\u001b[0m     \u001b[1;32mfor\u001b[0m \u001b[0mrow\u001b[0m \u001b[1;32min\u001b[0m \u001b[0mreader\u001b[0m\u001b[1;33m:\u001b[0m\u001b[1;33m\u001b[0m\u001b[1;33m\u001b[0m\u001b[0m\n",
      "\u001b[1;31mFileNotFoundError\u001b[0m: [Errno 2] No such file or directory: 'test_questions.csv'"
     ]
    }
   ],
   "source": [
    "def our_question_answering_function(question) :\n",
    "    if question.startswith('Who') :\n",
    "        return \"Leonardo DiCaprio\"\n",
    "    elif question.startswith('Name all') :\n",
    "        return ','.join(['Robert de Niro','Al Pacino'])\n",
    "    elif question.startswith('In which year') :\n",
    "        return \"1984\"\n",
    "    else :\n",
    "        return \"No answer found\"        \n",
    "\n",
    "answers = {}\n",
    "\n",
    "with open('test_questions.csv') as questions :\n",
    "    reader = csv.reader(questions,delimiter='\\t')\n",
    "    for row in reader:\n",
    "        question_id = row[0]\n",
    "        question_text = row[1]\n",
    "        answers[question_id] = our_question_answering_function(question_text)\n",
    "        \n",
    "with open('our_team_answers.csv', mode='w') as answerfile :\n",
    "    writer = csv.writer(answerfile,delimiter='\\t')\n",
    "    for key in answers :\n",
    "        writer.writerow([key,answers[key]])\n",
    "      "
   ]
  },
  {
   "cell_type": "code",
   "execution_count": null,
   "metadata": {},
   "outputs": [],
   "source": []
  }
 ],
 "metadata": {
  "kernelspec": {
   "display_name": "Python 3",
   "language": "python",
   "name": "python3"
  },
  "language_info": {
   "codemirror_mode": {
    "name": "ipython",
    "version": 3
   },
   "file_extension": ".py",
   "mimetype": "text/x-python",
   "name": "python",
   "nbconvert_exporter": "python",
   "pygments_lexer": "ipython3",
   "version": "3.8.5"
  }
 },
 "nbformat": 4,
 "nbformat_minor": 4
}
