{
 "cells": [
  {
   "cell_type": "code",
   "execution_count": null,
   "metadata": {},
   "outputs": [],
   "source": [
    "# What is the total number of P of Q? [Count question]\n",
    "q1 = '''SELECT (COUNT(?item) AS ?count) WHERE {\n",
    "  wd:Q wdt:P ?item .\n",
    "  \n",
    "  SERVICE wikibase:label {\n",
    "    bd:serviceParam wikibase:language \"en\" .\n",
    "  }\n",
    "}'''\n",
    "\n",
    "# Does Q P A? [Yes/No question]\n",
    "q4 = '''ASK {\n",
    "  wd:Q wdt:P wd:A\n",
    "}'''\n",
    "\n",
    "# What is the name of the voice actor (P) that plays (P2) Mufasa (E) in The Lion King (Q)? [Qualifier question]\n",
    "q7 = '''SELECT ?item ?itemLabel\n",
    "  WHERE {\n",
    "    wd:Q p:P ?stat .\n",
    "    ?stat ps:P ?item .\n",
    "    ?stat pq:P2 wd:E .\n",
    "    SERVICE wikibase:label {\n",
    "        bd:serviceParam wikibase:language \"en\" .\n",
    "    }\n",
    "  }'''\n",
    "\n",
    "# Who are P of Q?\n",
    "q8 = '''SELECT ?item ?itemLabel \n",
    "  WHERE {\n",
    "    wd:Q wdt:P ?item .\n",
    "  \n",
    "  SERVICE wikibase:label {\n",
    "    bd:serviceParam wikibase:language \"en\" .\n",
    "  }\n",
    "}'''"
   ]
  }
 ],
 "metadata": {
  "kernelspec": {
   "display_name": "Python 3",
   "language": "python",
   "name": "python3"
  },
  "language_info": {
   "codemirror_mode": {
    "name": "ipython",
    "version": 3
   },
   "file_extension": ".py",
   "mimetype": "text/x-python",
   "name": "python",
   "nbconvert_exporter": "python",
   "pygments_lexer": "ipython3",
   "version": "3.8.10"
  }
 },
 "nbformat": 4,
 "nbformat_minor": 4
}